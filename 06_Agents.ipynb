{
 "cells": [
  {
   "cell_type": "code",
   "execution_count": 15,
   "id": "abec1a97",
   "metadata": {
    "height": 132
   },
   "outputs": [],
   "source": [
    "import os\n",
    "\n",
    "from dotenv import load_dotenv, find_dotenv\n",
    "_ = load_dotenv(find_dotenv()) \n",
    "\n",
    "import warnings\n",
    "warnings.filterwarnings(\"ignore\")"
   ]
  },
  {
   "cell_type": "code",
   "execution_count": 16,
   "id": "5bde6fa7",
   "metadata": {
    "height": 30
   },
   "outputs": [],
   "source": [
    "llm_model = \"gpt-3.5-turbo-0301\""
   ]
  },
  {
   "cell_type": "code",
   "execution_count": 21,
   "id": "fca2596f",
   "metadata": {
    "height": 115
   },
   "outputs": [],
   "source": [
    "from langchain.agents.agent_toolkits import create_python_agent\n",
    "from langchain.agents import load_tools, initialize_agent\n",
    "from langchain.agents import AgentType\n",
    "from langchain.tools.python.tool import PythonREPLTool\n",
    "from langchain.python import PythonREPL\n",
    "from langchain.chat_models import ChatOpenAI"
   ]
  },
  {
   "cell_type": "code",
   "execution_count": 18,
   "id": "1498e4d9",
   "metadata": {
    "height": 30
   },
   "outputs": [],
   "source": [
    "llm = ChatOpenAI(temperature=0, model=llm_model)"
   ]
  },
  {
   "cell_type": "code",
   "execution_count": 19,
   "id": "8a5236dd",
   "metadata": {
    "height": 30
   },
   "outputs": [],
   "source": [
    "tools = load_tools(['llm-math', 'wikipedia'], llm=llm)"
   ]
  },
  {
   "cell_type": "code",
   "execution_count": 8,
   "id": "ff4550e0",
   "metadata": {
    "height": 132
   },
   "outputs": [],
   "source": [
    "agent = initialize_agent(\n",
    "    tools,\n",
    "    llm,\n",
    "    agent=AgentType.CHAT_ZERO_SHOT_REACT_DESCRIPTION,\n",
    "    handle_parsing_errors=True,\n",
    "    verbose=True\n",
    ")"
   ]
  },
  {
   "cell_type": "code",
   "execution_count": 9,
   "id": "54e5e6d8",
   "metadata": {
    "height": 30
   },
   "outputs": [
    {
     "name": "stdout",
     "output_type": "stream",
     "text": [
      "\n",
      "\n",
      "\u001b[1m> Entering new AgentExecutor chain...\u001b[0m\n",
      "\u001b[32;1m\u001b[1;3mQuestion: if i take 10% of 1000 and again take 10% of that result, what will be the final result?\n",
      "Thought: We can solve this problem using basic math operations.\n",
      "Action:\n",
      "```\n",
      "{\n",
      "  \"action\": \"Calculator\",\n",
      "  \"action_input\": \"((1000*10)/100)*10/100\"\n",
      "}\n",
      "```\n",
      "\u001b[0m\n",
      "Observation: \u001b[36;1m\u001b[1;3mAnswer: 10.0\u001b[0m\n",
      "Thought:\u001b[32;1m\u001b[1;3mThe calculator tool gave us the answer, but we need to make sure we understand what it means.\n",
      "Action:\n",
      "```\n",
      "{\n",
      "  \"action\": \"Wikipedia\",\n",
      "  \"action_input\": \"What does it mean to take 10% of a number?\"\n",
      "}\n",
      "```\n",
      "\u001b[0m\n",
      "Observation: \u001b[33;1m\u001b[1;3mPage: What Do You Mean?\n",
      "Summary: \"What Do You Mean?\" is a song recorded by Canadian singer Justin Bieber for his fourth studio album Purpose (2015). The song was released on August 28, 2015, as the album's lead single by Def Jam. The song was produced by MdL and co-produced by Bieber.\n",
      "It was featured in several year-end lists of best songs of 2015. Commercially, the song topped the charts in several countries, including Canada, Ireland, New Zealand, and Norway. In Australia, the United States and the United Kingdom, \"What Do You Mean?\" was Bieber's first number-one single. The song's music video features Bieber in bed with a young woman, Xenia Deli, and masked men kidnapping them, as well as an appearance from actor John Leguizamo. Since its release Bieber has mentioned that the song is about his relationship with Selena Gomez.\n",
      "\n",
      "Page: List of Generation Z slang\n",
      "Summary: This is a list of slang used by Generation Z (Gen Z), generally those born between the late 1990s and the late 2000s in the Western world.\n",
      "\n",
      "Page: Mean Girls (musical)\n",
      "Summary: Mean Girls is a musical with a book by Tina Fey, lyrics by Nell Benjamin, and music by Jeff Richmond. It is based on the 2004 Mark Waters film of the same name, which was also written by Fey and was inspired by Rosalind Wiseman's 2002 book Queen Bees and Wannabes.\n",
      "The musical focuses on Cady Heron, a teenage girl who transfers to a public high school after being homeschooled her whole life in Africa. At school, she befriends outsiders Janis Sarkisian and Damian Hubbard who persuades her to infiltrate the \"Plastics\", a clique consisting of wealthy but insecure Gretchen Wieners, sweet but dimwitted Karen Smith, and \"queen bee\" Regina George.\n",
      "Directed and choreographed by Casey Nicholaw, and produced by Lorne Michaels, the original production of Mean Girls premiered on Broadway at the August Wilson Theatre in 2018, after completing pre-Broadway tryouts in Washington, D.C. at the National Theatre in 2017. The show received positive to mixed reviews from critics and was nominated for twelve awards at the 72nd Tony Awards, including Best Musical. A recording featuring the original Broadway cast was released in 2018 by Atlantic Records. The show closed after 833 performances on Broadway on March 11, 2020, due to the COVID-19 pandemic.A film adaptation was released in theaters in January 2024.\u001b[0m\n",
      "Thought:\u001b[32;1m\u001b[1;3mOops, it looks like the Wikipedia tool didn't give us the information we needed. Let's try again to understand what taking 10% of a number means.\n",
      "Action:\n",
      "```\n",
      "{\n",
      "  \"action\": \"Wikipedia\",\n",
      "  \"action_input\": \"What does it mean to take a percentage of a number?\"\n",
      "}\n",
      "```\n",
      "\n",
      "\u001b[0m\n",
      "Observation: \u001b[33;1m\u001b[1;3mPage: Percentage\n",
      "Summary: In mathematics, a percentage (from Latin  per centum 'by a hundred') is a number or ratio expressed as a fraction of 100. It is often denoted using the percent sign (%), although the abbreviations pct., pct, and sometimes pc are also used. A percentage is a dimensionless number (pure number), primarily used for expressing proportions, but percent is nonetheless a unit of measurement in its orthography and usage.\n",
      "\n",
      "Page: Relative change\n",
      "Summary: In any quantitative science, the terms relative change and relative difference are used to compare two quantities while taking into account the \"sizes\" of the things being compared, i.e. dividing by a standard or reference or starting value. The comparison is expressed as a ratio and is a unitless number. By multiplying these ratios by 100 they can be expressed as percentages so the terms percentage change, percent(age) difference, or relative percentage difference are also commonly used. The terms \"change\" and \"difference\" are used interchangeably.Relative change is often used as a quantitative indicator of quality assurance and quality control for repeated measurements where the outcomes are expected to be the same. A special case of percent change (relative change expressed as a percentage) called percent error occurs in measuring situations where the reference value is the accepted or actual value (perhaps theoretically determined) and the value being compared to it is experimentally determined (by measurement).\n",
      "The relative change formula is not well-behaved under many conditions. Various alternative formulas, called indicators of relative change, have been proposed in the literature. Several authors have found log change and log points to be satisfactory indicators, but these have not seen widespread use.\n",
      "\n",
      "Page: What We Do in the Shadows (TV series)\n",
      "Summary: What We Do in the Shadows is an American mockumentary comedy horror television series created by Jemaine Clement, first broadcast March 27, 2019, on FX. The series follows four vampire roommates on Staten Island, and stars Kayvan Novak, Matt Berry, Natasia Demetriou, Harvey Guillén, Mark Proksch, and Kristen Schaal.\n",
      "Based on the 2014 New Zealand film of the same name, written by Clement and Taika Waititi, it is the second television series in the franchise. The fifth season of What We Do in the Shadows premiered on July 13, 2023, with a sixth and final season already confirmed. It has been critically acclaimed (particularly for its cast and writing) and nominated for 21 Emmy Awards, including Outstanding Comedy Series in 2020 and 2022 for its second and third season, respectively.\u001b[0m\n",
      "Thought:\u001b[32;1m\u001b[1;3mNow that we understand what taking a percentage of a number means, let's go back to our original problem.\n",
      "Action:\n",
      "```\n",
      "{\n",
      "  \"action\": \"Calculator\",\n",
      "  \"action_input\": \"((1000*10)/100)*10/100\"\n",
      "}\n",
      "```\n",
      "\n",
      "\u001b[0m\n",
      "Observation: \u001b[36;1m\u001b[1;3mAnswer: 10.0\u001b[0m\n",
      "Thought:\n",
      "Observation: Invalid or incomplete response\n",
      "Thought:\n",
      "Observation: Invalid or incomplete response\n",
      "Thought:\u001b[32;1m\u001b[1;3mWe already got the answer from the calculator tool, so we don't need to do anything else.\n",
      "Final Answer: The final result is 10.0.\u001b[0m\n",
      "\n",
      "\u001b[1m> Finished chain.\u001b[0m\n"
     ]
    },
    {
     "data": {
      "text/plain": [
       "{'input': 'if i take 10% of 1000 and again take 10% of that result, what will be the final result?',\n",
       " 'output': 'The final result is 10.0.'}"
      ]
     },
     "execution_count": 9,
     "metadata": {},
     "output_type": "execute_result"
    }
   ],
   "source": [
    "agent(\"if i take 10% of 1000 and again take 10% of that result, what will be the final result?\")"
   ]
  },
  {
   "cell_type": "code",
   "execution_count": null,
   "id": "cdc04516",
   "metadata": {
    "height": 30
   },
   "outputs": [],
   "source": []
  },
  {
   "cell_type": "code",
   "execution_count": 11,
   "id": "f29be923",
   "metadata": {
    "height": 48
   },
   "outputs": [
    {
     "name": "stdout",
     "output_type": "stream",
     "text": [
      "\n",
      "\n",
      "\u001b[1m> Entering new AgentExecutor chain...\u001b[0m\n",
      "\u001b[32;1m\u001b[1;3mThought: The question is asking for information from the future, which is impossible to know. \n",
      "\n",
      "Final Answer: It is impossible to answer this question as it is asking for information from the future.\u001b[0m\n",
      "\n",
      "\u001b[1m> Finished chain.\u001b[0m\n"
     ]
    },
    {
     "data": {
      "text/plain": [
       "{'input': 'Which football team has won the world cup in 2023?',\n",
       " 'output': 'It is impossible to answer this question as it is asking for information from the future.'}"
      ]
     },
     "execution_count": 11,
     "metadata": {},
     "output_type": "execute_result"
    }
   ],
   "source": [
    "question = \"Which football team has won the world cup in 2023?\"\n",
    "agent(question)\n"
   ]
  },
  {
   "cell_type": "code",
   "execution_count": 12,
   "id": "34c5f8dc",
   "metadata": {
    "height": 47
   },
   "outputs": [
    {
     "name": "stdout",
     "output_type": "stream",
     "text": [
      "\n",
      "\n",
      "\u001b[1m> Entering new AgentExecutor chain...\u001b[0m\n",
      "\u001b[32;1m\u001b[1;3mThought: I should use Wikipedia to search for the answer to this question.\n",
      "\n",
      "Action:\n",
      "```\n",
      "{\n",
      "  \"action\": \"Wikipedia\",\n",
      "  \"action_input\": \"Football team that won the last world cup\"\n",
      "}\n",
      "```\n",
      "\n",
      "\u001b[0m\n",
      "Observation: \u001b[33;1m\u001b[1;3mPage: Sven-Göran Eriksson\n",
      "Summary: Sven-Göran Eriksson (Swedish pronunciation: [svɛnˈjœ̂ːran ˈêːrɪkˌsɔn] ; born 5 February 1948) is a Swedish football manager and former player.\n",
      "After an unassuming playing career as a right-back, Eriksson went on to experience major success in club management between 1977 and 2001, winning 18 trophies with a variety of league clubs in Sweden, Portugal, and Italy. In European competition, he won both the UEFA Cup and the European Cup Winners' Cup (the last edition of the latter trophy before its abolition) and reached the final of the European Cup.\n",
      "Eriksson later managed the national teams of England, Mexico, Philippines and the Ivory Coast, as well as Manchester City and Leicester City in England. Eriksson has coached in ten countries: Sweden, Portugal, Italy, England, Mexico, Ivory Coast, Thailand, the United Arab Emirates, China and the Philippines.\n",
      "\n",
      "\n",
      "\n",
      "Page: 2026 FIFA World Cup\n",
      "Summary: The 2026 FIFA World Cup, marketed as FIFA World Cup 26, will be the 23rd FIFA World Cup, the quadrennial international men's soccer championship contested by the national teams of the member associations of FIFA. The tournament will take place from a yet to be determined date in June to July 19, 2026. It will be jointly hosted by 16 cities in three North American countries: Canada, Mexico, and the United States. The tournament will be the first hosted by three nations and the first North American World Cup since 1994. Argentina is the defending champion.\n",
      "This tournament will be the first to include 48 teams, expanded from 32. The United 2026 bid beat a rival bid by Morocco during a final vote at the 68th FIFA Congress in Moscow. It will be the first World Cup since 2002 to be hosted by more than one nation. With its past hosting of the 1970 and 1986 tournaments, Mexico will become the first country to host or co-host the men's World Cup three times. The United States last hosted the World Cup in 1994, whereas it will be Canada's first time hosting or co-hosting the men's tournament. The event will return to its traditional northern summer schedule after the 2022 edition in Qatar was held in November and December.\n",
      "\n",
      "\n",
      "\n",
      "Page: England national football team\n",
      "Summary: The England national football team have represented England in international football since the first international match in 1872. It is controlled by The Football Association (FA), the governing body for football in England, which is affiliated with UEFA and comes under the global jurisdiction of world football's governing body FIFA. England competes in the three major international tournament contested by European nations: the FIFA World Cup, the UEFA European Championship and the UEFA Nations League.\n",
      "England is the joint oldest national team in football having played in the world's first international football match in 1872, against Scotland. England's home ground is Wembley Stadium, London, and its training headquarters is  at St George's Park, Burton upon Trent.  Gareth Southgate is the current manager of the team.\n",
      "England won the 1966 World Cup final on home soil, making it one of eight nations to have won the World Cup. They have qualified for the World Cup sixteen times, with their best other performances being fourth place in both 1990 and 2018. England has never won the European Championship, with their best performance to date being runners-up in 2020. As a constituent country of the United Kingdom, England is not a member of the International Olympic Committee and so does not compete at the Olympic Games. England is currently the only team to have won the World Cup at senior level, but not their major continental title, and the only non-sovereign entity to have won the World Cup.\u001b[0m\n",
      "Thought:\u001b[32;1m\u001b[1;3mI need to refine my search to find the answer to the question.\n",
      "\n",
      "Action:\n",
      "```\n",
      "{\n",
      "  \"action\": \"Wikipedia\",\n",
      "  \"action_input\": \"List of FIFA World Cup winners\"\n",
      "}\n",
      "```\n",
      "\n",
      "\u001b[0m\n",
      "Observation: \u001b[33;1m\u001b[1;3mPage: List of FIFA World Cup winning players\n",
      "Summary: This page is a list of all players who have won the men's FIFA World Cup tournament since its inception in 1930.\n",
      "Participating teams have to register squads for each edition of the World Cup, which consisted of 22 players until 1998, of 23 players from 2002 to 2018, and of 26 players in 2022. Since 1978, winners' medals are given to all members of the winning squads. Prior to that, only players who were on the pitch during the final matches (or the de facto final in 1950) received medals. FIFA decided in 2007 to retroactively award winners' medals to all members of the winning squads between 1930 and 1974.World Cup winning players and managers are among a selected few who are officially allowed to touch the FIFA World Cup Trophy with bare hands, the group also including heads of state and FIFA officials.\n",
      "\n",
      "Page: List of FIFA World Cup finals\n",
      "Summary: The FIFA World Cup is an international association football competition contested by the senior men's national teams of the Fédération Internationale de Football Association (FIFA), the sport's global governing body. The championship has been awarded every four years since 1930, except in 1942 and 1946, when it was not held because of World War II.\n",
      "The World Cup final match is the last of the competition, played by the only two teams remaining in contention, and the result determines which country is declared the world champion. It is a one-off match decided in regulation time. In case of a draw, extra time is used. If scores are then still level, a penalty shoot-out determines the winner, under the rules in force since 1986; prior to that, finals still tied after extra time would have been replayed, though this never proved necessary. The golden goal rule would have applied during extra time in 1998 and 2002, but was not put in practice either.\n",
      "The only exception to this type of format was the 1950 World Cup, which featured a final round-robin group of four teams; the decisive match of that group is often regarded as the de facto final of that tournament, including by FIFA itself.The team that wins the final receives the FIFA World Cup Trophy, and its name is engraved on the bottom side of the trophy. Of 80 different nations that have appeared in the tournament, 13 have made it to the final, and 8 have won. Brazil, the only team that has participated in every World Cup, is also the most successful team in the competition, having won five titles and finished second twice. Italy and Germany have four titles each, with Germany having reached more finals than any other team, eight. Current champion Argentina has three titles, Uruguay and France have two each, while England and Spain have one each. Czechoslovakia, Hungary, Sweden, the Netherlands and Croatia have played in the final without winning. Only teams from Europe (UEFA) and South America (CONMEBOL) have ever competed in the final.\n",
      "Argentina defeated France on penalties in the latest final, staged at Qatar's Lusail Stadium in 2022.\n",
      "\n",
      "Page: FIFA World Cup records and statistics\n",
      "Summary: As of the 2022 FIFA World Cup, 80 national teams have competed at the finals of the FIFA World Cup. Brazil is the only team to have appeared in all 22 tournaments to date, with Germany having participated in 20, Italy and Argentina in 18 and Mexico in 17. Eight nations have won the tournament. The inaugural winners in 1930 were Uruguay; the current champions are Argentina. The most successful nation is Brazil, which has won the cup on five occasions. Five teams have appeared in FIFA World Cup finals without winning, while twelve more have appeared in the semi-finals.\u001b[0m\n",
      "Thought:\u001b[32;1m\u001b[1;3mI need to refine my search further to find the answer to the question.\n",
      "\n",
      "Action:\n",
      "```\n",
      "{\n",
      "  \"action\": \"Wikipedia\",\n",
      "  \"action_input\": \"List of FIFA World Cup winners by year\"\n",
      "}\n",
      "```\n",
      "\n",
      "\n",
      "\u001b[0m\n",
      "Observation: \u001b[33;1m\u001b[1;3mPage: List of FIFA World Cup finals\n",
      "Summary: The FIFA World Cup is an international association football competition contested by the senior men's national teams of the Fédération Internationale de Football Association (FIFA), the sport's global governing body. The championship has been awarded every four years since 1930, except in 1942 and 1946, when it was not held because of World War II.\n",
      "The World Cup final match is the last of the competition, played by the only two teams remaining in contention, and the result determines which country is declared the world champion. It is a one-off match decided in regulation time. In case of a draw, extra time is used. If scores are then still level, a penalty shoot-out determines the winner, under the rules in force since 1986; prior to that, finals still tied after extra time would have been replayed, though this never proved necessary. The golden goal rule would have applied during extra time in 1998 and 2002, but was not put in practice either.\n",
      "The only exception to this type of format was the 1950 World Cup, which featured a final round-robin group of four teams; the decisive match of that group is often regarded as the de facto final of that tournament, including by FIFA itself.The team that wins the final receives the FIFA World Cup Trophy, and its name is engraved on the bottom side of the trophy. Of 80 different nations that have appeared in the tournament, 13 have made it to the final, and 8 have won. Brazil, the only team that has participated in every World Cup, is also the most successful team in the competition, having won five titles and finished second twice. Italy and Germany have four titles each, with Germany having reached more finals than any other team, eight. Current champion Argentina has three titles, Uruguay and France have two each, while England and Spain have one each. Czechoslovakia, Hungary, Sweden, the Netherlands and Croatia have played in the final without winning. Only teams from Europe (UEFA) and South America (CONMEBOL) have ever competed in the final.\n",
      "Argentina defeated France on penalties in the latest final, staged at Qatar's Lusail Stadium in 2022.\n",
      "\n",
      "Page: List of FIFA World Cup winning players\n",
      "Summary: This page is a list of all players who have won the men's FIFA World Cup tournament since its inception in 1930.\n",
      "Participating teams have to register squads for each edition of the World Cup, which consisted of 22 players until 1998, of 23 players from 2002 to 2018, and of 26 players in 2022. Since 1978, winners' medals are given to all members of the winning squads. Prior to that, only players who were on the pitch during the final matches (or the de facto final in 1950) received medals. FIFA decided in 2007 to retroactively award winners' medals to all members of the winning squads between 1930 and 1974.World Cup winning players and managers are among a selected few who are officially allowed to touch the FIFA World Cup Trophy with bare hands, the group also including heads of state and FIFA officials.\n",
      "\n",
      "Page: FIFA World Cup Trophy\n",
      "Summary: The World Cup is a solid gold trophy that is awarded to the winners of the FIFA World Cup association football tournament. Since the advent of the World Cup in 1930, two different trophies have been used: the Jules Rimet Trophy from 1930 to 1970 and thereafter the FIFA World Cup Trophy from 1974 to the present day. The current trophy is one of the most expensive trophies in sporting history and is valued at $20,000,000.The first trophy, originally named Victory, but later renamed in honour of FIFA president Jules Rimet, was made of gold plated sterling silver and a lapis lazuli base. It depicted Nike, the Greek goddess of victory. Brazil was awarded the trophy in perpetuity following their third title in 1970, prompting the commissioning of a replacement. The original Jules Rimet Trophy was stolen in 1983 and has never been recovered.\n",
      "The subsequent trophy, called the \"FIFA World Cup Trophy\", was introduced in\u001b[0m\n",
      "Thought:\u001b[32;1m\u001b[1;3mI need to refine my search even further to find the answer to the question.\n",
      "\n",
      "Action:\n",
      "```\n",
      "{\n",
      "  \"action\": \"Wikipedia\",\n",
      "  \"action_input\": \"2018 FIFA World Cup Final\"\n",
      "}\n",
      "```\n",
      "\n",
      "\n",
      "\u001b[0m\n",
      "Observation: \u001b[33;1m\u001b[1;3mPage: 2018 FIFA World Cup final\n",
      "Summary: The 2018 FIFA World Cup final was the final match of the 2018 World Cup, the 21st edition of FIFA's competition for national football teams. The match was played at the Luzhniki Stadium in Moscow, Russia, on 15 July 2018, and was contested by France and Croatia. The tournament comprised hosts Russia and 31 other teams who emerged from the qualification phase, organised by the six FIFA confederations. The 32 teams competed in a group stage, from which 16 teams qualified for the knockout stage. En route to the final, France finished first in Group C, with two wins and a draw, after which they defeated Argentina in the round of 16, Uruguay in the quarter-final and Belgium in the semi-final. Croatia finished top of Group D with three wins, before defeating Denmark in the round of 16 and Russia in the quarter-final – both through a penalty shoot-out – and then England in the semi-final. The final took place in front of 78,011 supporters, with more than a billion watching on television, and was refereed by Néstor Pitana from Argentina.\n",
      "France took the lead through a controversial free kick that led to an own goal by Mario Mandžukić in the 18th minute – the first ever own goal in a World Cup final – before Ivan Perišić equalised 10 minutes later with a low shot into the corner of the goal. Shortly afterwards, France were awarded a penalty when Pitana ruled that Perišić had deliberately handled the ball. The decision resulted from a consultation with the video assistant referee, which was in use for the first time in a World Cup at the 2018 tournament. The decision was criticised by some pundits such as Alan Shearer, who labelled it \"ridiculous\", while others such as Chris Waddle thought it was correct. Antoine Griezmann scored to give France a 2–1 half-time lead. They extended that lead in the 59th minute, when Paul Pogba scored at the second attempt after Croatia goalkeeper Danijel Subašić had saved his initial shot. Kylian Mbappé scored from outside the penalty area to make it 4–1, becoming only the second teenager to score in a World Cup final after Pelé in 1958, before Mandžukić capitalized on a Hugo Lloris error to score a second for Croatia, giving a final score of 4–2 to France.\n",
      "France's win was their second World Cup title, following their victory in 1998, which they hosted. Griezmann was named the man of the match, while Croatia's Luka Modrić was awarded the Golden Ball as FIFA's outstanding player of the tournament. The final was the highest-scoring World Cup final since 1966. France's manager, Didier Deschamps, reflected on his own experience as captain of the 1998 French team, saying \"that adventure is linked to these players' adventure. I had the immense privilege to live through this 20 years ago, and in France, but what the players have just done is just as beautiful, just as powerful.\" His Croatian counterpart, Zlatko Dalić, congratulated France on their win, but was critical of the penalty decision, saying \"you don’t give a penalty like that in a World Cup final\". At the subsequent UEFA Euro 2020 tournament, held in 2021, both France and Croatia reached the round of 16, before being eliminated by Switzerland and Spain respectively.\n",
      "The 2018 FIFA World Cup final was the first (and as of 2022, the most recent) final since 2002 not to go into extra time or penalties.\n",
      "\n",
      "Page: List of FIFA World Cup finals\n",
      "Summary: The FIFA World Cup is an international association football competition contested by the senior men's national teams of the Fédération Internationale de Football Association (FIFA), the sport's global governing body. The championship has been awarded every four years since 1930, except in 1942 and 1946, when it was not held because of World War II.\n",
      "The World Cup final match is the last of the competition, played by the only two teams remaining in contention, and the result determines which country is declared the world champion. It is a one-off match decided in regulation\u001b[0m\n",
      "Thought:\u001b[32;1m\u001b[1;3mFinal Answer: France won the last FIFA World Cup in 2018, defeating Croatia 4-2 in the final.\u001b[0m\n",
      "\n",
      "\u001b[1m> Finished chain.\u001b[0m\n"
     ]
    },
    {
     "data": {
      "text/plain": [
       "{'input': 'Which football team has won the last world cup?',\n",
       " 'output': 'France won the last FIFA World Cup in 2018, defeating Croatia 4-2 in the final.'}"
      ]
     },
     "execution_count": 12,
     "metadata": {},
     "output_type": "execute_result"
    }
   ],
   "source": [
    "question = \"Which football team has won the last world cup?\"\n",
    "agent(question)\n"
   ]
  },
  {
   "cell_type": "code",
   "execution_count": null,
   "id": "2f7185de",
   "metadata": {
    "height": 30
   },
   "outputs": [],
   "source": []
  },
  {
   "cell_type": "code",
   "execution_count": 22,
   "id": "4005b937",
   "metadata": {
    "height": 258
   },
   "outputs": [],
   "source": [
    "agent = create_python_agent(\n",
    "    llm,\n",
    "    tool=PythonREPLTool(),\n",
    "    verbose=True\n",
    ")\n",
    "\n",
    "customer_list = [[\"Harrison\", \"Chase\"], \n",
    "                 [\"Lang\", \"Chain\"],\n",
    "                 [\"Dolly\", \"Too\"],\n",
    "                 [\"Elle\", \"Elem\"], \n",
    "                 [\"Geoff\",\"Fusion\"], \n",
    "                 [\"Trance\",\"Former\"],\n",
    "                 [\"Jen\",\"Ayai\"]\n",
    "                ]"
   ]
  },
  {
   "cell_type": "code",
   "execution_count": null,
   "id": "63f97b43",
   "metadata": {
    "height": 30
   },
   "outputs": [
    {
     "name": "stdout",
     "output_type": "stream",
     "text": [
      "\n",
      "\n",
      "\u001b[1m> Entering new AgentExecutor chain...\u001b[0m\n"
     ]
    }
   ],
   "source": [
    "agent.run(f\"sort those given items by their first name.\\n\\nItems:{customer_list}\")"
   ]
  },
  {
   "cell_type": "code",
   "execution_count": null,
   "id": "d8581fb7",
   "metadata": {
    "height": 30
   },
   "outputs": [],
   "source": []
  },
  {
   "cell_type": "code",
   "execution_count": 29,
   "id": "2e580be6",
   "metadata": {
    "height": 45
   },
   "outputs": [],
   "source": [
    "from langchain.agents import tool\n",
    "from datetime import date"
   ]
  },
  {
   "cell_type": "code",
   "execution_count": 30,
   "id": "2ce4dd59",
   "metadata": {
    "height": 166
   },
   "outputs": [],
   "source": [
    "@tool\n",
    "def time(text: str) -> str:\n",
    "    \"\"\"Returns todays date, use this for any \\\n",
    "    questions related to knowing todays date. \\\n",
    "    The input should always be an empty string, \\\n",
    "    and this function will always return todays \\\n",
    "    date - any date mathmatics should occur \\\n",
    "    outside this function.\"\"\"\n",
    "    return str(date.today())"
   ]
  },
  {
   "cell_type": "code",
   "execution_count": 31,
   "id": "a941058c",
   "metadata": {
    "height": 115
   },
   "outputs": [],
   "source": [
    "agent= initialize_agent(\n",
    "    tools + [time], \n",
    "    llm, \n",
    "    agent=AgentType.CHAT_ZERO_SHOT_REACT_DESCRIPTION,\n",
    "    handle_parsing_errors=True,\n",
    "    verbose = True)"
   ]
  },
  {
   "cell_type": "code",
   "execution_count": 32,
   "id": "18100543",
   "metadata": {
    "height": 30
   },
   "outputs": [
    {
     "name": "stdout",
     "output_type": "stream",
     "text": [
      "\n",
      "\n",
      "\u001b[1m> Entering new AgentExecutor chain...\u001b[0m\n",
      "\u001b[32;1m\u001b[1;3mThought: I need to use the `time` tool to get today's date.\n",
      "Action:\n",
      "```\n",
      "{\n",
      "  \"action\": \"time\",\n",
      "  \"action_input\": \"\"\n",
      "}\n",
      "```\n",
      "\u001b[0m\n",
      "Observation: \u001b[38;5;200m\u001b[1;3m2024-01-16\u001b[0m\n",
      "Thought:\u001b[32;1m\u001b[1;3mI have successfully retrieved today's date using the `time` tool.\n",
      "Final Answer: Today's date is 2024-01-16.\u001b[0m\n",
      "\n",
      "\u001b[1m> Finished chain.\u001b[0m\n"
     ]
    }
   ],
   "source": [
    "try:\n",
    "    result = agent(\"whats the date today?\") \n",
    "except: \n",
    "    print(\"exception on external access\")"
   ]
  }
 ],
 "metadata": {
  "kernelspec": {
   "display_name": "Python 3 (ipykernel)",
   "language": "python",
   "name": "python3"
  },
  "language_info": {
   "codemirror_mode": {
    "name": "ipython",
    "version": 3
   },
   "file_extension": ".py",
   "mimetype": "text/x-python",
   "name": "python",
   "nbconvert_exporter": "python",
   "pygments_lexer": "ipython3",
   "version": "3.9.17"
  }
 },
 "nbformat": 4,
 "nbformat_minor": 5
}
