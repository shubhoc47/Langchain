{
 "cells": [
  {
   "cell_type": "code",
   "execution_count": 1,
   "id": "e0efc631",
   "metadata": {
    "height": 81
   },
   "outputs": [],
   "source": [
    "import os\n",
    "\n",
    "from dotenv import load_dotenv, find_dotenv\n",
    "_ = load_dotenv(find_dotenv()) # read local .env file"
   ]
  },
  {
   "cell_type": "code",
   "execution_count": 24,
   "id": "d82a60d2",
   "metadata": {
    "height": 47
   },
   "outputs": [],
   "source": [
    "llm_model = \"gpt-3.5-turbo\"\n",
    "# llm_model = \"gpt-3.5-turbo-0301\""
   ]
  },
  {
   "cell_type": "code",
   "execution_count": 25,
   "id": "a37a0504",
   "metadata": {
    "height": 98
   },
   "outputs": [],
   "source": [
    "from langchain.chains import RetrievalQA\n",
    "from langchain.chat_models import ChatOpenAI\n",
    "from langchain.document_loaders import CSVLoader\n",
    "from langchain.vectorstores import DocArrayInMemorySearch\n",
    "from IPython.display import display, Markdown"
   ]
  },
  {
   "cell_type": "code",
   "execution_count": 26,
   "id": "2b87e6b2",
   "metadata": {
    "height": 47
   },
   "outputs": [],
   "source": [
    "file = 'OutdoorClothingCatalog_1000.csv'\n",
    "loader = CSVLoader(file_path=file)"
   ]
  },
  {
   "cell_type": "code",
   "execution_count": 10,
   "id": "96cb5b75",
   "metadata": {
    "height": 47
   },
   "outputs": [
    {
     "name": "stdout",
     "output_type": "stream",
     "text": [
      "page_content=\": 0\\nname: Women's Campside Oxfords\\ndescription: This ultracomfortable lace-to-toe Oxford boasts a super-soft canvas, thick cushioning, and quality construction for a broken-in feel from the first time you put them on. \\n\\nSize & Fit: Order regular shoe size. For half sizes not offered, order up to next whole size. \\n\\nSpecs: Approx. weight: 1 lb.1 oz. per pair. \\n\\nConstruction: Soft canvas material for a broken-in feel and look. Comfortable EVA innersole with Cleansport NXT® antimicrobial odor control. Vintage hunt, fish and camping motif on innersole. Moderate arch contour of innersole. EVA foam midsole for cushioning and support. Chain-tread-inspired molded rubber outsole with modified chain-tread pattern. Imported. \\n\\nQuestions? Please contact us for any inquiries.\" metadata={'source': 'OutdoorClothingCatalog_1000.csv', 'row': 0}\n"
     ]
    }
   ],
   "source": [
    "docs = loader.load()\n",
    "print(docs[0])"
   ]
  },
  {
   "cell_type": "code",
   "execution_count": 12,
   "id": "da68911c",
   "metadata": {
    "height": 47
   },
   "outputs": [],
   "source": [
    "from langchain.embeddings import OpenAIEmbeddings\n",
    "embeddings = OpenAIEmbeddings()"
   ]
  },
  {
   "cell_type": "code",
   "execution_count": 14,
   "id": "234b0dcc",
   "metadata": {
    "height": 47
   },
   "outputs": [
    {
     "name": "stdout",
     "output_type": "stream",
     "text": [
      "1536 [0.006724867504090071, 0.00954195111989975, -0.01940508931875229, 0.0055873277597129345, -0.028826596215367317]\n"
     ]
    }
   ],
   "source": [
    "embeded = embeddings.embed_query(\"Hi, This is Shubho Chowdhury\")\n",
    "print(len(embeded), embeded[:5])"
   ]
  },
  {
   "cell_type": "code",
   "execution_count": 16,
   "id": "722181ed",
   "metadata": {
    "height": 81
   },
   "outputs": [],
   "source": [
    "db = DocArrayInMemorySearch.from_documents(\n",
    "    docs,\n",
    "    embeddings\n",
    ")"
   ]
  },
  {
   "cell_type": "code",
   "execution_count": 39,
   "id": "da68e7e5",
   "metadata": {
    "height": 30
   },
   "outputs": [],
   "source": [
    "query = \"is there any cloths for winter?\""
   ]
  },
  {
   "cell_type": "code",
   "execution_count": 40,
   "id": "22cd6e2b",
   "metadata": {
    "height": 30
   },
   "outputs": [],
   "source": [
    "docs = db.similarity_search(query)"
   ]
  },
  {
   "cell_type": "code",
   "execution_count": 41,
   "id": "830c32ef",
   "metadata": {
    "height": 30
   },
   "outputs": [
    {
     "data": {
      "text/plain": [
       "4"
      ]
     },
     "execution_count": 41,
     "metadata": {},
     "output_type": "execute_result"
    }
   ],
   "source": [
    "len(docs)"
   ]
  },
  {
   "cell_type": "code",
   "execution_count": 42,
   "id": "78eb3bea",
   "metadata": {
    "height": 30
   },
   "outputs": [
    {
     "data": {
      "text/plain": [
       "Document(page_content=': 760\\nname: Winterproof Snow Trousers\\ndescription: These men’s waterproof snow pants are designed for natural movement and maximum warmth and waterproof breathability. The breathable, waterproof TEK2® 100% nylon fabric is taped at the seams and insulated with our ThermaTEK polyester insulation. Snap closure and waistband adjustments provide a customizable fit over any base layer, and snow gaiter hems keep out deep snow and allow for easy on/off over boots. The lining content is 100% Nylon taffeta and the pants are machine washable and dryable. \\n\\nSize & Fit: Relaxed Fit - our loosest cut, with the most room through the seat and knee. \\n\\nImported. \\n\\nIf you have any questions, please reach out to our customer service team.', metadata={'source': 'OutdoorClothingCatalog_1000.csv', 'row': 760})"
      ]
     },
     "execution_count": 42,
     "metadata": {},
     "output_type": "execute_result"
    }
   ],
   "source": [
    "docs[0]"
   ]
  },
  {
   "cell_type": "code",
   "execution_count": 43,
   "id": "4e7edba4",
   "metadata": {
    "height": 30
   },
   "outputs": [],
   "source": [
    "retriever = db.as_retriever()"
   ]
  },
  {
   "cell_type": "code",
   "execution_count": 45,
   "id": "42e8abea",
   "metadata": {
    "height": 30
   },
   "outputs": [],
   "source": [
    "llm = ChatOpenAI(temperature=0.0)"
   ]
  },
  {
   "cell_type": "code",
   "execution_count": 46,
   "id": "5825e620",
   "metadata": {
    "height": 30
   },
   "outputs": [],
   "source": [
    "q_docs = \" \".join(i.page_content for i in docs)"
   ]
  },
  {
   "cell_type": "code",
   "execution_count": 47,
   "id": "c98f05d1",
   "metadata": {
    "height": 30
   },
   "outputs": [
    {
     "data": {
      "text/plain": [
       "\": 760\\nname: Winterproof Snow Trousers\\ndescription: These men’s waterproof snow pants are designed for natural movement and maximum warmth and waterproof breathability. The breathable, waterproof TEK2® 100% nylon fabric is taped at the seams and insulated with our ThermaTEK polyester insulation. Snap closure and waistband adjustments provide a customizable fit over any base layer, and snow gaiter hems keep out deep snow and allow for easy on/off over boots. The lining content is 100% Nylon taffeta and the pants are machine washable and dryable. \\n\\nSize & Fit: Relaxed Fit - our loosest cut, with the most room through the seat and knee. \\n\\nImported. \\n\\nIf you have any questions, please reach out to our customer service team. : 414\\nname: Cozy Comfort Everyday Underwear, Pants Pattern\\ndescription: Stay cozy with our heat-generating underwear, designed to keep you up to 7 degrees warmer. Crafted with 48% acrylic, 28% Tencel, 19% polyester, and 5% spandex, these underwear are trim-fitting and ultra-soft, perfect for wear under clothing or on their own. The advanced fabric traps body moisture, transforming it into heat, even while sitting still. Machine wash and dry for easy care. Perfect for casual warmth and everyday wear while running errands, walking the dog or snow blowing. Imported. : 788\\nname: Dual-Layer Undershorts\\ndescription: Made to put cold weather in its place, our men's double-layer thermal underwear is built to last for years of cozy outdoor activity. Size & Fit: Snug fit assures comfortable fit beneath outer layers. Fabric & Care: Inside is soft, itch-free cotton. Outside is a durable, warm blend of cotton and merino wool. Machine wash and dry. Construction: Supersoft, warm two-layer construction won’t bind. Nonchafing flatlock seams for superior comfort. Rib-knit cuffs with Lycra elastane hold their shape. Elastic waist with fly front. Imported. : 562\\nname: Ladies' Luxury Snow Coat\\ndescription: This insulated soft-shell jacket is extra rugged, with just the right amount of stretch so you can move smoothly down the mountain. It provides light activity protection up to 30° and moderate activity protection up to -20°. The slightly fitted design is best when worn with a midweight layer and falls at the hip. It is constructed of a durable and highly weather-resistant stretch soft shell blend of 88% nylon and 12% elastane, with ultralight, ultrawarm PrimaLoft insulation to keep you comfortable and dry on the slopes. Additional features include a longer length and higher collar for extra protection, a helmet-compatible, fully adjustable hood, pit zip venting, an interior media pocket and goggle pocket, and a drawcord at the hem. This jacket is machine washable and dryable and is imported. If you have any questions, please contact us.\""
      ]
     },
     "execution_count": 47,
     "metadata": {},
     "output_type": "execute_result"
    }
   ],
   "source": [
    "q_docs"
   ]
  },
  {
   "cell_type": "code",
   "execution_count": 50,
   "id": "adb623ab",
   "metadata": {
    "height": 45
   },
   "outputs": [],
   "source": [
    "response = llm.call_as_llm(f\"Question: Please analyze the given content and list all shirts for cold temperature in a table in a markdown and summarize each one\\n\\nContent:{q_docs}\")"
   ]
  },
  {
   "cell_type": "code",
   "execution_count": 51,
   "id": "b53d6954",
   "metadata": {
    "height": 30
   },
   "outputs": [
    {
     "data": {
      "text/markdown": [
       "| Shirt Name | Description |\n",
       "|------------|-------------|\n",
       "| Winterproof Snow Trousers | These men’s waterproof snow pants are designed for natural movement and maximum warmth and waterproof breathability. The breathable, waterproof TEK2® 100% nylon fabric is taped at the seams and insulated with our ThermaTEK polyester insulation. Snap closure and waistband adjustments provide a customizable fit over any base layer, and snow gaiter hems keep out deep snow and allow for easy on/off over boots. The lining content is 100% Nylon taffeta and the pants are machine washable and dryable. |\n",
       "| Cozy Comfort Everyday Underwear, Pants Pattern | Stay cozy with our heat-generating underwear, designed to keep you up to 7 degrees warmer. Crafted with 48% acrylic, 28% Tencel, 19% polyester, and 5% spandex, these underwear are trim-fitting and ultra-soft, perfect for wear under clothing or on their own. The advanced fabric traps body moisture, transforming it into heat, even while sitting still. Machine wash and dry for easy care. Perfect for casual warmth and everyday wear while running errands, walking the dog or snow blowing. Imported. |\n",
       "| Dual-Layer Undershorts | Made to put cold weather in its place, our men's double-layer thermal underwear is built to last for years of cozy outdoor activity. Size & Fit: Snug fit assures comfortable fit beneath outer layers. Fabric & Care: Inside is soft, itch-free cotton. Outside is a durable, warm blend of cotton and merino wool. Machine wash and dry. Construction: Supersoft, warm two-layer construction won’t bind. Nonchafing flatlock seams for superior comfort. Rib-knit cuffs with Lycra elastane hold their shape. Elastic waist with fly front. Imported. |\n",
       "| Ladies' Luxury Snow Coat | This insulated soft-shell jacket is extra rugged, with just the right amount of stretch so you can move smoothly down the mountain. It provides light activity protection up to 30° and moderate activity protection up to -20°. The slightly fitted design is best when worn with a midweight layer and falls at the hip. It is constructed of a durable and highly weather-resistant stretch soft shell blend of 88% nylon and 12% elastane, with ultralight, ultrawarm PrimaLoft insulation to keep you comfortable and dry on the slopes. Additional features include a longer length and higher collar for extra protection, a helmet-compatible, fully adjustable hood, pit zip venting, an interior media pocket and goggle pocket, and a drawcord at the hem. This jacket is machine washable and dryable and is imported. If you have any questions, please contact us. |\n",
       "\n",
       "Summary:\n",
       "1. Winterproof Snow Trousers: Waterproof snow pants designed for natural movement and maximum warmth. Made of breathable, waterproof TEK2® nylon fabric with ThermaTEK polyester insulation. Customizable fit with snap closure and waistband adjustments. Snow gaiter hems keep out deep snow. Machine washable and dryable.\n",
       "2. Cozy Comfort Everyday Underwear, Pants Pattern: Heat-generating underwear designed to keep you up to 7 degrees warmer. Made of acrylic, Tencel, polyester, and spandex. Trim-fitting and ultra-soft. Traps body moisture and transforms it into heat. Machine wash and dry. Perfect for casual warmth and everyday wear.\n",
       "3. Dual-Layer Undershorts: Double-layer thermal underwear for cozy outdoor activity. Snug fit beneath outer layers. Soft, itch-free cotton inside and durable, warm blend of cotton and merino wool outside. Nonchafing flatlock seams. Rib-knit cuffs with Lycra elastane. Elastic waist with fly front.\n",
       "4. Ladies' Luxury Snow Coat: Insulated soft-shell jacket with stretch for smooth movement. Provides light activity protection up to 30° and moderate activity protection up to -20°. Slightly fitted design for wearing with a midweight layer. Made of durable and weather-resistant stretch soft shell blend. Ultralight, ultrawarm PrimaLoft insulation. Additional features include longer length, higher collar, helmet-compatible hood, pit zip venting, interior media pocket, goggle pocket, and drawcord at the hem. Machine washable and dryable."
      ],
      "text/plain": [
       "<IPython.core.display.Markdown object>"
      ]
     },
     "metadata": {},
     "output_type": "display_data"
    }
   ],
   "source": [
    "display(Markdown(response))"
   ]
  },
  {
   "cell_type": "markdown",
   "id": "7094bbd8",
   "metadata": {
    "height": 30
   },
   "source": [
    "### RetrievalQA"
   ]
  },
  {
   "cell_type": "code",
   "execution_count": 63,
   "id": "440d3310",
   "metadata": {
    "height": 115
   },
   "outputs": [],
   "source": [
    "qa_stuff = RetrievalQA.from_chain_type(\n",
    "    llm = llm,\n",
    "    chain_type='map_reduce',\n",
    "    retriever=retriever,\n",
    "    verbose=True\n",
    ")"
   ]
  },
  {
   "cell_type": "code",
   "execution_count": 64,
   "id": "a50edbcc",
   "metadata": {
    "height": 45
   },
   "outputs": [],
   "source": [
    "query = \"Please analyze the given content and list all shirts for cold temperature in a table in a markdown and summarize each one\""
   ]
  },
  {
   "cell_type": "code",
   "execution_count": null,
   "id": "0434e0ec",
   "metadata": {
    "height": 30
   },
   "outputs": [
    {
     "name": "stdout",
     "output_type": "stream",
     "text": [
      "\n",
      "\n",
      "\u001b[1m> Entering new RetrievalQA chain...\u001b[0m\n"
     ]
    }
   ],
   "source": [
    "response = qa_stuff.run(query)"
   ]
  },
  {
   "cell_type": "code",
   "execution_count": null,
   "id": "1c16dc09",
   "metadata": {
    "height": 30
   },
   "outputs": [],
   "source": [
    "display(Markdown(response))"
   ]
  },
  {
   "cell_type": "markdown",
   "id": "ec0fbdfa",
   "metadata": {
    "height": 30
   },
   "source": [
    "### Alternative"
   ]
  },
  {
   "cell_type": "code",
   "execution_count": 60,
   "id": "896d677b",
   "metadata": {
    "height": 81
   },
   "outputs": [],
   "source": [
    "index = VectorstoreIndexCreator(\n",
    "    vectorstore_cls=DocArrayInMemorySearch,\n",
    "    embedding=embeddings,\n",
    ").from_loaders([loader])"
   ]
  },
  {
   "cell_type": "code",
   "execution_count": 61,
   "id": "df05c6dd",
   "metadata": {
    "height": 30
   },
   "outputs": [],
   "source": [
    "response = index.query(query, llm=llm)"
   ]
  },
  {
   "cell_type": "code",
   "execution_count": 62,
   "id": "7fc02bf3",
   "metadata": {
    "height": 30
   },
   "outputs": [
    {
     "data": {
      "text/markdown": [
       "| Shirt ID | Shirt Name                           | Description                                                                                                                                                                                                                                                                                                                                                                                                                                                                                                                                                                                                                                                                                                                                                                                                                                                                                                                                                                                                                                                                                                                                                                                                                                                                                                                                                                                                                                                                                                                                                                                                                                                                                                                                                                                                                                                                                                                                                                                                                                                                                                                                                                                                                                                                                                                                                                                                                                                                                                                                                                                                                                                                                                                                                                                                                                                                                                                                                                                                                                                                                                                                                                                                                                                                                                                                                                                                                                                                                                                                                                                                                                                                                                                                                                                                                                                                                                                                                                                                                                                                                                                                                                                                                                                                                                                                                                                                                                                                                                                                                                                                                                                                                                                                                                                                                                                                                                                                                                                                                                                                                                                                                                                                                                                                                                                                                                                                                                                                                                                                                                                                                                                                                                                                                                                                                                                                                                                                                                                                                                                                                                                                                                                                                                                                                                                                                                                                                                                                                                                                                                                                                                                                                                                                                                                                                                                                                                                                                                                                                                                                                                                                                                                                                                                                                                                                                                                                                                                                                                                                                                                                                                                                                                                                                                                                                                                                                                                                                                                                                                                                                                                                                                                                                                                                                                                                                                                                                                                                                                                                                                                                                                                                                                                                                                                                                                                                                                                                                                                                                                                                                                                                                                                                                                                                                                                                                                                                                                                                                                                                                                                                                                                                                                                                                                                                                                                                                                                                                                                                                                                                                                                                                                                                                                                                                                                                                                                                                                                                                                                                                                                                                                                                                                                                                                                                                                                                                                                                                                                                                                                                                                                                                                                                                                                                                                                                                                                                                                                                                                                                                                                                                                                                                                                                                                                                                                                                                                                                                                                                                                                                                                                                                                                                                                                                                                                                                                                                                                                                                                                                                                                                                                                                                                                                                                                                                                                                                                                                                                                                                                                                                                                                                                                                                                                                                                                                "
      ],
      "text/plain": [
       "<IPython.core.display.Markdown object>"
      ]
     },
     "metadata": {},
     "output_type": "display_data"
    }
   ],
   "source": [
    "display(Markdown(response))"
   ]
  }
 ],
 "metadata": {
  "kernelspec": {
   "display_name": "Python 3 (ipykernel)",
   "language": "python",
   "name": "python3"
  },
  "language_info": {
   "codemirror_mode": {
    "name": "ipython",
    "version": 3
   },
   "file_extension": ".py",
   "mimetype": "text/x-python",
   "name": "python",
   "nbconvert_exporter": "python",
   "pygments_lexer": "ipython3",
   "version": "3.9.17"
  }
 },
 "nbformat": 4,
 "nbformat_minor": 5
}
