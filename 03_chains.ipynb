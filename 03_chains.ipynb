{
 "cells": [
  {
   "cell_type": "code",
   "execution_count": 27,
   "id": "887f2d0a-af55-42ec-9ec4-4b94915eca8d",
   "metadata": {},
   "outputs": [],
   "source": [
    "# !pip install langchain google-generativeai langchain-google-genai streamlit chromadb pypdf"
   ]
  },
  {
   "cell_type": "code",
   "execution_count": 2,
   "id": "4f7f05a8-ca63-4cee-9f49-adaba0360395",
   "metadata": {},
   "outputs": [
    {
     "name": "stderr",
     "output_type": "stream",
     "text": [
      "C:\\Users\\shubh\\anaconda3\\envs\\langchain\\lib\\site-packages\\tqdm\\auto.py:21: TqdmWarning: IProgress not found. Please update jupyter and ipywidgets. See https://ipywidgets.readthedocs.io/en/stable/user_install.html\n",
      "  from .autonotebook import tqdm as notebook_tqdm\n"
     ]
    }
   ],
   "source": [
    "import os\n",
    "import google.generativeai as genai\n",
    "import pandas as pd\n",
    "\n",
    "GOOGLE_API_KEY = \"YOUR-KEY\"\n",
    "os.environ['GOOGLE_API_KEY'] = GOOGLE_API_KEY\n",
    "genai.configure(api_key = os.environ['GOOGLE_API_KEY'])"
   ]
  },
  {
   "cell_type": "code",
   "execution_count": 3,
   "id": "4101b3ca-90f9-4256-a5ba-cd25dc743ec1",
   "metadata": {},
   "outputs": [],
   "source": [
    "df = pd.read_csv('data.csv')"
   ]
  },
  {
   "cell_type": "markdown",
   "id": "c138409c-d617-49a8-9635-4dabc5b2682b",
   "metadata": {},
   "source": [
    "## LLMChain"
   ]
  },
  {
   "cell_type": "code",
   "execution_count": 4,
   "id": "1ca47e92-71a9-4944-a92f-e16b5a14dece",
   "metadata": {},
   "outputs": [],
   "source": [
    "from langchain_google_genai import ChatGoogleGenerativeAI\n",
    "from langchain.prompts import ChatPromptTemplate\n",
    "from langchain.chains import LLMChain"
   ]
  },
  {
   "cell_type": "code",
   "execution_count": 12,
   "id": "87cc1fbc-9318-49a1-9fbe-8875f9bf035a",
   "metadata": {},
   "outputs": [],
   "source": [
    "llm = ChatGoogleGenerativeAI(model='gemini-pro', temperature=0.9, google_api_key=GOOGLE_API_KEY)"
   ]
  },
  {
   "cell_type": "code",
   "execution_count": 13,
   "id": "176d2566-85c2-4a30-b842-1cd3ab6fef13",
   "metadata": {},
   "outputs": [],
   "source": [
    "prompt = ChatPromptTemplate.from_template(\n",
    "    \"What is the best name to describe a company that makes {product}?\"\n",
    ")"
   ]
  },
  {
   "cell_type": "code",
   "execution_count": 14,
   "id": "8f8cf149-d0f2-4eb5-a6fc-fad5a9a020a9",
   "metadata": {},
   "outputs": [],
   "source": [
    "chain = LLMChain(llm=llm, prompt=prompt)"
   ]
  },
  {
   "cell_type": "code",
   "execution_count": 17,
   "id": "ecd0dcc1-54cf-4bd2-8447-e60c0e9edca0",
   "metadata": {},
   "outputs": [
    {
     "name": "stdout",
     "output_type": "stream",
     "text": [
      "* Sweet Delights\n",
      "* Sugar Rush\n",
      "* Candy Cove\n",
      "* Sweet Sensations\n",
      "* Confectionary Creations\n",
      "* Sugar Bliss\n",
      "* Sweet Tooth Emporium\n",
      "* Candy Paradise\n",
      "* Dessert Dreams\n",
      "* Treat Factory\n"
     ]
    }
   ],
   "source": [
    "product = \"Sweets\"\n",
    "print(chain.run(product))"
   ]
  },
  {
   "cell_type": "markdown",
   "id": "7bb1b215-46d6-4d4a-82d6-cf55d443e391",
   "metadata": {},
   "source": [
    "## SimpleSequentialChain"
   ]
  },
  {
   "cell_type": "code",
   "execution_count": 18,
   "id": "d8253e02-7279-49d3-b63e-7774f9c21471",
   "metadata": {},
   "outputs": [],
   "source": [
    "from langchain.chains import SimpleSequentialChain"
   ]
  },
  {
   "cell_type": "code",
   "execution_count": 22,
   "id": "d577876b-a45b-43fa-bdff-65ce51aefdf8",
   "metadata": {},
   "outputs": [],
   "source": [
    "llm = llm = ChatGoogleGenerativeAI(model='gemini-pro', temperature=0.9, google_api_key=GOOGLE_API_KEY)\n",
    "\n",
    "first_prompt = ChatPromptTemplate.from_template(\n",
    "    \"What is one best name to describe a company that makes {product}?\"\n",
    ")\n",
    "chain_one = LLMChain(llm=llm, prompt=first_prompt)\n",
    "\n",
    "second_prompt = ChatPromptTemplate.from_template(\n",
    "    \"Write a 20 words description for the following company: {company}\"\n",
    ")\n",
    "chain_two = LLMChain(llm=llm, prompt=second_prompt)\n",
    "\n",
    "overall_simple_chain = SimpleSequentialChain(chains=[chain_one, chain_two], verbose=True)"
   ]
  },
  {
   "cell_type": "code",
   "execution_count": 23,
   "id": "d76d2cc4-ab2b-4947-827b-ef03e4f59b44",
   "metadata": {},
   "outputs": [
    {
     "name": "stdout",
     "output_type": "stream",
     "text": [
      "\n",
      "\n",
      "\u001b[1m> Entering new SimpleSequentialChain chain...\u001b[0m\n",
      "\u001b[36;1m\u001b[1;3mSugarly Delights\u001b[0m\n",
      "\u001b[33;1m\u001b[1;3mSugarly Delights: Indulge in handcrafted sweet treats, from decadent cupcakes to beautifully designed cakes, made with passion and creativity to satisfy your sweet cravings.\u001b[0m\n",
      "\n",
      "\u001b[1m> Finished chain.\u001b[0m\n",
      "Sugarly Delights: Indulge in handcrafted sweet treats, from decadent cupcakes to beautifully designed cakes, made with passion and creativity to satisfy your sweet cravings.\n"
     ]
    }
   ],
   "source": [
    "print(overall_simple_chain.run(product))"
   ]
  },
  {
   "cell_type": "markdown",
   "id": "16c2f771-fbf4-47cd-8cd9-91af318f06bb",
   "metadata": {},
   "source": [
    "## SequentialChain"
   ]
  },
  {
   "cell_type": "code",
   "execution_count": 25,
   "id": "f0b616d7-6f76-45b9-850d-a6a27b3f9125",
   "metadata": {},
   "outputs": [],
   "source": [
    "from langchain.chains import SequentialChain\n",
    "llm = ChatGoogleGenerativeAI(model='gemini-pro', temperature=0.9, google_api_key=GOOGLE_API_KEY)"
   ]
  },
  {
   "cell_type": "code",
   "execution_count": 40,
   "id": "86d1b618-434d-4bf5-a86c-6b6ebfbaf79a",
   "metadata": {},
   "outputs": [],
   "source": [
    "# First prompt template\n",
    "first_prompt = ChatPromptTemplate.from_template(\n",
    "    \"Translate the following review to english:\\n\\n{Review}\"\n",
    ")\n",
    "chain_one = LLMChain(llm=llm, prompt=first_prompt, output_key=\"englsih_review\")"
   ]
  },
  {
   "cell_type": "code",
   "execution_count": 42,
   "id": "8f99b260-00cf-448f-bae5-23ab2ca8f09e",
   "metadata": {},
   "outputs": [],
   "source": [
    "# Second prompt template\n",
    "second_prompt = ChatPromptTemplate.from_template(\n",
    "    \"Summarize the following reivew in one sentence:\\n\\n {englsih_review}\"\n",
    ")\n",
    "chain_two = LLMChain(llm=llm, prompt=second_prompt, output_key=\"summary\")"
   ]
  },
  {
   "cell_type": "code",
   "execution_count": 43,
   "id": "a994e761-dd36-428a-b5bc-37bb2068eb24",
   "metadata": {},
   "outputs": [],
   "source": [
    "# Third prompt template\n",
    "third_prompt = ChatPromptTemplate.from_template(\n",
    "    \"What language is the following review:\\n\\n{Review}\"\n",
    ")\n",
    "chain_three = LLMChain(llm=llm, prompt=third_prompt, output_key='language')"
   ]
  },
  {
   "cell_type": "code",
   "execution_count": 44,
   "id": "532b8d58-9676-43e5-8713-3b565b164280",
   "metadata": {},
   "outputs": [],
   "source": [
    "# Fourth prompt template\n",
    "fourth_prompt = ChatPromptTemplate.from_template(\n",
    "    \"Write a follow up response to the following summary in the specified language:\\n\\nSummary: {summary}\\n\\nLanguage: {language}\"\n",
    ")\n",
    "chain_four = LLMChain(llm=llm, prompt=fourth_prompt, output_key='followup_message')"
   ]
  },
  {
   "cell_type": "code",
   "execution_count": 47,
   "id": "c07c002a-98ad-4e0b-93e4-ef202100bfc9",
   "metadata": {},
   "outputs": [],
   "source": [
    "overall_chain = SequentialChain(\n",
    "    chains = [chain_one, chain_two, chain_three, chain_four],\n",
    "    input_variables=[\"Review\"],\n",
    "    output_variables=[\"englsih_review\", \"summary\", \"followup_message\"],\n",
    "    verbose=True,\n",
    ")"
   ]
  },
  {
   "cell_type": "code",
   "execution_count": 48,
   "id": "67cf62cc-d7ba-455b-8844-1163813cb43f",
   "metadata": {},
   "outputs": [
    {
     "name": "stdout",
     "output_type": "stream",
     "text": [
      "\n",
      "\n",
      "\u001b[1m> Entering new SequentialChain chain...\u001b[0m\n",
      "\n",
      "\u001b[1m> Finished chain.\u001b[0m\n"
     ]
    },
    {
     "data": {
      "text/plain": [
       "{'Review': \"Je trouve le goût médiocre. La mousse ne tient pas, c'est bizarre. J'achète les mêmes dans le commerce et le goût est bien meilleur...\\nVieux lot ou contrefaçon !?\",\n",
       " 'englsih_review': 'I find the taste mediocre. The foam does not hold up, which is weird. I buy the same ones at the store and the taste is so much better...\\nOld batch or fake!?',\n",
       " 'summary': 'Reviewer finds the taste and foam quality of the pretzel buns mediocre and different from the ones bought at the store, raising concerns about the freshness or authenticity of the product.',\n",
       " 'followup_message': \"Le critique trouve que le goût et la qualité de la mousse des petits pains bretzels sont médiocres et différents de ceux achetés en magasin, ce qui soulève des inquiétudes quant à la fraîcheur ou à l'authenticité du produit.\"}"
      ]
     },
     "execution_count": 48,
     "metadata": {},
     "output_type": "execute_result"
    }
   ],
   "source": [
    "review = df.Review[5]\n",
    "overall_chain(review)"
   ]
  },
  {
   "cell_type": "markdown",
   "id": "04be0e00-10e0-4969-bc45-e85bd289ffa9",
   "metadata": {},
   "source": [
    "## Router Chain"
   ]
  },
  {
   "cell_type": "code",
   "execution_count": 5,
   "id": "82838a09-519f-4abe-933f-25f6841346ca",
   "metadata": {},
   "outputs": [],
   "source": [
    "physics_template = \"\"\"You are a very smart physics professor. \\\n",
    "You are great at answering questions about physics in a concise\\\n",
    "and easy to understand manner. \\\n",
    "When you don't know the answer to a question you admit\\\n",
    "that you don't know.\n",
    "\n",
    "Here is a question:\n",
    "{input}\"\"\"\n",
    "\n",
    "\n",
    "math_template = \"\"\"You are a very good mathematician. \\\n",
    "You are great at answering math questions. \\\n",
    "You are so good because you are able to break down \\\n",
    "hard problems into their component parts, \n",
    "answer the component parts, and then put them together\\\n",
    "to answer the broader question.\n",
    "\n",
    "Here is a question:\n",
    "{input}\"\"\"\n",
    "\n",
    "history_template = \"\"\"You are a very good historian. \\\n",
    "You have an excellent knowledge of and understanding of people,\\\n",
    "events and contexts from a range of historical periods. \\\n",
    "You have the ability to think, reflect, debate, discuss and \\\n",
    "evaluate the past. You have a respect for historical evidence\\\n",
    "and the ability to make use of it to support your explanations \\\n",
    "and judgements.\n",
    "\n",
    "Here is a question:\n",
    "{input}\"\"\"\n",
    "\n",
    "\n",
    "computerscience_template = \"\"\" You are a successful computer scientist.\\\n",
    "You have a passion for creativity, collaboration,\\\n",
    "forward-thinking, confidence, strong problem-solving capabilities,\\\n",
    "understanding of theories and algorithms, and excellent communication \\\n",
    "skills. You are great at answering coding questions. \\\n",
    "You are so good because you know how to solve a problem by \\\n",
    "describing the solution in imperative steps \\\n",
    "that a machine can easily interpret and you know how to \\\n",
    "choose a solution that has a good balance between \\\n",
    "time complexity and space complexity. \n",
    "\n",
    "Here is a question:\n",
    "{input}\"\"\""
   ]
  },
  {
   "cell_type": "code",
   "execution_count": 6,
   "id": "a2dbe517-03b3-4841-a469-1df6877958b8",
   "metadata": {},
   "outputs": [],
   "source": [
    "prompt_infos = [\n",
    "    {\n",
    "        \"name\": \"physics\", \n",
    "        \"description\": \"Good for answering questions about physics\", \n",
    "        \"prompt_template\": physics_template\n",
    "    },\n",
    "    {\n",
    "        \"name\": \"math\", \n",
    "        \"description\": \"Good for answering math questions\", \n",
    "        \"prompt_template\": math_template\n",
    "    },\n",
    "    {\n",
    "        \"name\": \"History\", \n",
    "        \"description\": \"Good for answering history questions\", \n",
    "        \"prompt_template\": history_template\n",
    "    },\n",
    "    {\n",
    "        \"name\": \"computer science\", \n",
    "        \"description\": \"Good for answering computer science questions\",\n",
    "        \"prompt_template\": computerscience_template\n",
    "    }\n",
    "]"
   ]
  },
  {
   "cell_type": "code",
   "execution_count": 7,
   "id": "eb28bad9-d5bd-43a2-835d-1be8ed8543a3",
   "metadata": {},
   "outputs": [],
   "source": [
    "from langchain.chains import LLMChain\n",
    "from langchain.chains.router import MultiPromptChain\n",
    "from langchain.chains.router.llm_router import LLMRouterChain, RouterOutputParser\n",
    "from langchain.prompts import PromptTemplate\n",
    "\n",
    "llm = ChatGoogleGenerativeAI(model='gemini-pro', temperature=0, google_api_key=GOOGLE_API_KEY)"
   ]
  },
  {
   "cell_type": "code",
   "execution_count": 8,
   "id": "54a20a30-1696-418b-8b3e-d816a985c4be",
   "metadata": {},
   "outputs": [],
   "source": [
    "destination_chains = {}\n",
    "for p_info in prompt_infos:\n",
    "    name = p_info['name']\n",
    "    prompt_template = p_info[\"prompt_template\"]\n",
    "    prompt = ChatPromptTemplate.from_template(template=prompt_template)\n",
    "    chain = LLMChain(llm=llm, prompt=prompt)\n",
    "    destination_chains[name] = chain\n",
    "\n",
    "destinations = [f\"{p['name']}: {p['description']}\" for p in prompt_infos]\n",
    "destinations_str = \"\\n\".join(destinations)"
   ]
  },
  {
   "cell_type": "code",
   "execution_count": 9,
   "id": "66b296de-20fa-47c6-9970-14f1220b6ceb",
   "metadata": {},
   "outputs": [],
   "source": [
    "default_prompt = ChatPromptTemplate.from_template(\"{input}\")\n",
    "default_prompt = LLMChain(llm=llm, prompt=default_prompt)"
   ]
  },
  {
   "cell_type": "code",
   "execution_count": 10,
   "id": "9b3d07aa-a3f7-4f5b-a3ec-5ece65dc0aaa",
   "metadata": {},
   "outputs": [
    {
     "name": "stdout",
     "output_type": "stream",
     "text": [
      "Given a raw text input to a language model select the model prompt best suited for the input. You will be given the names of the available prompts and a description of what the prompt is best suited for. You may also revise the original input if you think that revisingit will ultimately lead to a better response from the language model.\n",
      "\n",
      "<< FORMATTING >>\n",
      "Return a markdown code snippet with a JSON object formatted to look like:\n",
      "```json\n",
      "{{{{\n",
      "    \"destination\": string \\ name of the prompt to use or \"DEFAULT\"\n",
      "    \"next_inputs\": string \\ a potentially modified version of the original input\n",
      "}}}}\n",
      "```\n",
      "\n",
      "REMEMBER: \"destination\" MUST be one of the candidate prompt names specified below OR it can be \"DEFAULT\" if the input is notwell suited for any of the candidate prompts.\n",
      "REMEMBER: \"next_inputs\" can just be the original input if you don't think any modifications are needed.\n",
      "\n",
      "<< CANDIDATE PROMPTS >>\n",
      "{destinations}\n",
      "\n",
      "<< INPUT >>\n",
      "{{input}}\n",
      "\n",
      "<< OUTPUT (remember to include the ```json)>>\n"
     ]
    }
   ],
   "source": [
    "MULTI_PROMPT_ROUTER_TEMPLATE = \"\"\"Given a raw text input to a \\\n",
    "language model select the model prompt best suited for the input. \\\n",
    "You will be given the names of the available prompts and a \\\n",
    "description of what the prompt is best suited for. \\\n",
    "You may also revise the original input if you think that revising\\\n",
    "it will ultimately lead to a better response from the language model.\n",
    "\n",
    "<< FORMATTING >>\n",
    "Return a markdown code snippet with a JSON object formatted to look like:\n",
    "```json\n",
    "{{{{\n",
    "    \"destination\": string \\ name of the prompt to use or \"DEFAULT\"\n",
    "    \"next_inputs\": string \\ a potentially modified version of the original input\n",
    "}}}}\n",
    "```\n",
    "\n",
    "REMEMBER: \"destination\" MUST be one of the candidate prompt \\\n",
    "names specified below OR it can be \"DEFAULT\" if the input is not\\\n",
    "well suited for any of the candidate prompts.\n",
    "REMEMBER: \"next_inputs\" can just be the original input \\\n",
    "if you don't think any modifications are needed.\n",
    "\n",
    "<< CANDIDATE PROMPTS >>\n",
    "{destinations}\n",
    "\n",
    "<< INPUT >>\n",
    "{{input}}\n",
    "\n",
    "<< OUTPUT (remember to include the ```json)>>\"\"\"\n",
    "print(MULTI_PROMPT_ROUTER_TEMPLATE)"
   ]
  },
  {
   "cell_type": "code",
   "execution_count": 15,
   "id": "d16ccf56-048f-4ca7-a774-89fa5afb7874",
   "metadata": {},
   "outputs": [],
   "source": [
    "router_template = MULTI_PROMPT_ROUTER_TEMPLATE.format(\n",
    "    destinations=destinations_str\n",
    ")\n",
    "router_prompt = PromptTemplate(\n",
    "    template=router_template,\n",
    "    input_variables=['input'],\n",
    "    output_parser=RouterOutputParser(),\n",
    ")\n",
    "\n",
    "router_chain = LLMRouterChain.from_llm(llm, router_prompt)"
   ]
  },
  {
   "cell_type": "code",
   "execution_count": null,
   "id": "ec599453-e891-4cbf-8419-f048ad535c9e",
   "metadata": {},
   "outputs": [],
   "source": [
    "chain = MultiPromptChain(router_chain=router_chain,\n",
    "                        destination_chains=destination_chains,\n",
    "                        default_chain=default_chain, verbose=True)"
   ]
  },
  {
   "cell_type": "code",
   "execution_count": 20,
   "id": "98e77655-d699-4f29-a5cf-4a2c94d07e10",
   "metadata": {},
   "outputs": [],
   "source": [
    "response = chain.invoke('why can not we travel more than speed of light?')"
   ]
  },
  {
   "cell_type": "code",
   "execution_count": 26,
   "id": "9d0bc7c2-cfe1-4147-9fff-bd3b2ee70197",
   "metadata": {},
   "outputs": [
    {
     "name": "stdout",
     "output_type": "stream",
     "text": [
      "{'input': 'why can not we travel more than speed of light?', 'text': \"The speed of light is the fastest possible speed in the universe, and it is a fundamental constant of nature. It is the speed at which all electromagnetic radiation, including visible light, travels. The speed of light is approximately 299,792,458 meters per second (186,282 miles per second).\\n\\nThere are several reasons why we cannot travel faster than the speed of light.\\n\\n* **Time dilation:** As an object approaches the speed of light, time slows down for that object. This means that it would take an infinite amount of time for an object to reach the speed of light.\\n* **Length contraction:** As an object approaches the speed of light, it also contracts in length. This means that the distance between two points would become infinitely small at the speed of light.\\n* **Infinite energy:** It would take an infinite amount of energy to accelerate an object to the speed of light. This is because the energy required to accelerate an object increases as the object's speed approaches the speed of light.\\n\\nIn addition to these theoretical reasons, there are also practical reasons why we cannot travel faster than the speed of light.\\n\\n* **The speed of light is too fast.** Even if we could overcome the theoretical limitations, it would still be impossible to travel faster than the speed of light because it is simply too fast. For example, it would take over 4 years to travel to the nearest star, Proxima Centauri, at the speed of light.\\n* **There is no known way to create a spacecraft that can travel faster than the speed of light.** Even if we could overcome the theoretical and practical limitations, we still do not have the technology to create a spacecraft that can travel faster than the speed of light.\\n\\nFor these reasons, it is impossible for us to travel faster than the speed of light.\"}\n"
     ]
    }
   ],
   "source": [
    "print(response)"
   ]
  },
  {
   "cell_type": "code",
   "execution_count": null,
   "id": "86391f6a-b167-4ece-b493-dc39569ed2fd",
   "metadata": {},
   "outputs": [],
   "source": []
  }
 ],
 "metadata": {
  "kernelspec": {
   "display_name": "Python 3 (ipykernel)",
   "language": "python",
   "name": "python3"
  },
  "language_info": {
   "codemirror_mode": {
    "name": "ipython",
    "version": 3
   },
   "file_extension": ".py",
   "mimetype": "text/x-python",
   "name": "python",
   "nbconvert_exporter": "python",
   "pygments_lexer": "ipython3",
   "version": "3.10.11"
  }
 },
 "nbformat": 4,
 "nbformat_minor": 5
}
